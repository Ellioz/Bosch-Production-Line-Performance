{
 "cells": [
  {
   "cell_type": "markdown",
   "metadata": {},
   "source": [
    "<h3 align = 'center'><font color='purple'> Exploring the Bosch Production Line Dataset</font></h3>"
   ]
  },
  {
   "cell_type": "markdown",
   "metadata": {},
   "source": [
    "### Introduction"
   ]
  },
  {
   "cell_type": "markdown",
   "metadata": {},
   "source": [
    "This dataset is published via kaggle for their Bosch Production Line Performance competition. The objective of the competition is to classify a part (produced on a production line) as passing quality control (response = 1) or failing quality control (response = 0) given a bunch of measurements made on the part during the production process prior to being screened for quality. Pretty straight forward stuff.\n",
    "\n",
    "the amount of data is -euge, there are quite a few csv's that make up this dataset and each of them are several GB. First things, first lets try and import the data."
   ]
  },
  {
   "cell_type": "code",
   "execution_count": null,
   "metadata": {
    "collapsed": false
   },
   "outputs": [],
   "source": [
    "import pandas as pd\n",
    "import os\n",
    "curdur = os.getcwd()\n",
    "os.chdir(curdur)\n",
    "trainNumeric = pd.read_csv('train_numeric.csv')\n",
    "trainCategorical = pd.read_csv('train_categorical.csv')\n",
    "trainDate = pd.read_csv('train_date.csv')"
   ]
  },
  {
   "cell_type": "markdown",
   "metadata": {
    "collapsed": true
   },
   "source": [
    "Okay already a problem.... 2gb csv files do not import very quickly... I don't even have enough memory to hold all this data. A more powerful computer probably could do the trick?"
   ]
  },
  {
   "cell_type": "markdown",
   "metadata": {},
   "source": [
    "So part of the challenge of this problem is determining which features are valuable. Hopefully, i'll find the features that matter, exclude the rest of the data and the result will be a dataframe that I can keep in memory easily. It's not clear if this is data for one specific part or if these are measurements that generalize to a class of parts etc. Either way, my hope is that what is being measured is consistent for every row in the dataset.\n",
    "\n",
    "I usually don't want to start with feature importance but i'm pretty desperate to trim down this data.\n",
    "\n",
    "Maybe this goes without saying but my goal is to retain the distribution of each predictor and the response through my sampling of rows so uniformly sampling rows from the dataset should work fine."
   ]
  },
  {
   "cell_type": "markdown",
   "metadata": {},
   "source": [
    "### Feature Selection (Train Numeric)"
   ]
  },
  {
   "cell_type": "code",
   "execution_count": 101,
   "metadata": {
    "collapsed": false
   },
   "outputs": [],
   "source": [
    "import pandas as pd\n",
    "import random\n",
    "n = sum(1 for line in open('train_numeric.csv')) - 1 #number of records in file (excludes header)\n",
    "s = 10000 #desired sample size\n",
    "skip = sorted(random.sample(range(1,n+1),n-s)) #the 0-indexed header will not be included in the skip list\n",
    "df = pd.read_csv('train_numeric.csv', skiprows=skip)"
   ]
  },
  {
   "cell_type": "code",
   "execution_count": 102,
   "metadata": {
    "collapsed": false
   },
   "outputs": [
    {
     "data": {
      "text/html": [
       "<div>\n",
       "<table border=\"1\" class=\"dataframe\">\n",
       "  <thead>\n",
       "    <tr style=\"text-align: right;\">\n",
       "      <th></th>\n",
       "      <th>Id</th>\n",
       "      <th>L0_S0_F0</th>\n",
       "      <th>L0_S0_F2</th>\n",
       "      <th>L0_S0_F4</th>\n",
       "      <th>L0_S0_F6</th>\n",
       "      <th>L0_S0_F8</th>\n",
       "      <th>L0_S0_F10</th>\n",
       "      <th>L0_S0_F12</th>\n",
       "      <th>L0_S0_F14</th>\n",
       "      <th>L0_S0_F16</th>\n",
       "      <th>...</th>\n",
       "      <th>L3_S50_F4245</th>\n",
       "      <th>L3_S50_F4247</th>\n",
       "      <th>L3_S50_F4249</th>\n",
       "      <th>L3_S50_F4251</th>\n",
       "      <th>L3_S50_F4253</th>\n",
       "      <th>L3_S51_F4256</th>\n",
       "      <th>L3_S51_F4258</th>\n",
       "      <th>L3_S51_F4260</th>\n",
       "      <th>L3_S51_F4262</th>\n",
       "      <th>Response</th>\n",
       "    </tr>\n",
       "  </thead>\n",
       "  <tbody>\n",
       "  </tbody>\n",
       "</table>\n",
       "<p>0 rows × 970 columns</p>\n",
       "</div>"
      ],
      "text/plain": [
       "Empty DataFrame\n",
       "Columns: [Id, L0_S0_F0, L0_S0_F2, L0_S0_F4, L0_S0_F6, L0_S0_F8, L0_S0_F10, L0_S0_F12, L0_S0_F14, L0_S0_F16, L0_S0_F18, L0_S0_F20, L0_S0_F22, L0_S1_F24, L0_S1_F28, L0_S2_F32, L0_S2_F36, L0_S2_F40, L0_S2_F44, L0_S2_F48, L0_S2_F52, L0_S2_F56, L0_S2_F60, L0_S2_F64, L0_S3_F68, L0_S3_F72, L0_S3_F76, L0_S3_F80, L0_S3_F84, L0_S3_F88, L0_S3_F92, L0_S3_F96, L0_S3_F100, L0_S4_F104, L0_S4_F109, L0_S5_F114, L0_S5_F116, L0_S6_F118, L0_S6_F122, L0_S6_F132, L0_S7_F136, L0_S7_F138, L0_S7_F142, L0_S8_F144, L0_S8_F146, L0_S8_F149, L0_S9_F155, L0_S9_F160, L0_S9_F165, L0_S9_F170, L0_S9_F175, L0_S9_F180, L0_S9_F185, L0_S9_F190, L0_S9_F195, L0_S9_F200, L0_S9_F205, L0_S9_F210, L0_S10_F219, L0_S10_F224, L0_S10_F229, L0_S10_F234, L0_S10_F239, L0_S10_F244, L0_S10_F249, L0_S10_F254, L0_S10_F259, L0_S10_F264, L0_S10_F269, L0_S10_F274, L0_S11_F282, L0_S11_F286, L0_S11_F290, L0_S11_F294, L0_S11_F298, L0_S11_F302, L0_S11_F306, L0_S11_F310, L0_S11_F314, L0_S11_F318, L0_S11_F322, L0_S11_F326, L0_S12_F330, L0_S12_F332, L0_S12_F334, L0_S12_F336, L0_S12_F338, L0_S12_F340, L0_S12_F342, L0_S12_F344, L0_S12_F346, L0_S12_F348, L0_S12_F350, L0_S12_F352, L0_S13_F354, L0_S13_F356, L0_S14_F358, L0_S14_F362, L0_S14_F366, L0_S14_F370, ...]\n",
       "Index: []\n",
       "\n",
       "[0 rows x 970 columns]"
      ]
     },
     "execution_count": 102,
     "metadata": {},
     "output_type": "execute_result"
    }
   ],
   "source": [
    "sum(df['Response'].values)\n",
    "df.shape\n",
    "df.dropna(axis=0)"
   ]
  },
  {
   "cell_type": "markdown",
   "metadata": {},
   "source": [
    "Okay a bit of a problem here, there are no columns without NAN's. Lets see where all the nans are coming from and try to cut them out without losing too much data."
   ]
  },
  {
   "cell_type": "code",
   "execution_count": 103,
   "metadata": {
    "collapsed": false
   },
   "outputs": [
    {
     "name": "stdout",
     "output_type": "stream",
     "text": [
      "Id              0\n",
      "L0_S0_F0     4310\n",
      "L0_S0_F2     4310\n",
      "L0_S0_F4     4310\n",
      "L0_S0_F6     4310\n",
      "L0_S0_F8     4310\n",
      "L0_S0_F10    4310\n",
      "L0_S0_F12    4310\n",
      "L0_S0_F14    4310\n",
      "L0_S0_F16    4310\n",
      "dtype: int64\n"
     ]
    }
   ],
   "source": [
    "print(df.isnull().sum()[:10])\n",
    "# ah this is not good, looks like most datapoints are missing for most of these variables.\n",
    "#lets just do a simple mean replacement for these, although im sure this is hurting the\n",
    "df = df.fillna(df.mean())"
   ]
  },
  {
   "cell_type": "code",
   "execution_count": 104,
   "metadata": {
    "collapsed": false
   },
   "outputs": [],
   "source": [
    "from sklearn.ensemble import RandomForestClassifier\n",
    "import numpy as np\n",
    "X = df.drop('Response',1)\n",
    "X = X.drop('Id',1)\n",
    "Y = df['Response']\n",
    "randomForest = RandomForestClassifier(n_estimators = 1000)\n",
    "randomForest.fit(X,Y)\n",
    "importances = randomForest.feature_importances_\n",
    "sortedImportance = np.argsort(importances)"
   ]
  },
  {
   "cell_type": "code",
   "execution_count": 105,
   "metadata": {
    "collapsed": false
   },
   "outputs": [
    {
     "data": {
      "image/png": "[encoded data removed]",
      "text/plain": [
       "<matplotlib.figure.Figure at 0x11c2133c8>"
      ]
     },
     "metadata": {},
     "output_type": "display_data"
    }
   ],
   "source": [
    "%matplotlib inline\n",
    "from matplotlib import pyplot as plt\n",
    "plt.bar(range(900),importances[sortedImportance[len(importances)-900:]])\n",
    "plt.show()\n"
   ]
  },
  {
   "cell_type": "markdown",
   "metadata": {},
   "source": [
    "So it seems like the top 20 just iterate randomly based on the random generation of the forest. But the top 10 of 1 random forest never drop below like 100 for any other random forest"
   ]
  },
  {
   "cell_type": "code",
   "execution_count": 44,
   "metadata": {
    "collapsed": false
   },
   "outputs": [
    {
     "name": "stdout",
     "output_type": "stream",
     "text": [
      "['L3_S30_F3709' 'L0_S10_F219' 'L0_S0_F10' 'L3_S35_F3889' 'L3_S49_F4231'\n",
      " 'L0_S3_F80' 'L3_S29_F3421' 'L3_S30_F3579' 'L3_S30_F3794' 'L0_S0_F12']\n"
     ]
    }
   ],
   "source": [
    "potentiallyGoodPredictors = X.columns.values[sortedImportance[len(importances)-100:]]\n",
    "print(potentiallyGoodPredictors[:10])"
   ]
  },
  {
   "cell_type": "markdown",
   "metadata": {},
   "source": [
    "Lets do some PCA"
   ]
  },
  {
   "cell_type": "code",
   "execution_count": 56,
   "metadata": {
    "collapsed": false
   },
   "outputs": [
    {
     "data": {
      "text/plain": [
       "<matplotlib.text.Text at 0x1338b9e48>"
      ]
     },
     "execution_count": 56,
     "metadata": {},
     "output_type": "execute_result"
    },
    {
     "data": {
      "image/png": "[encoded data removed]",
      "text/plain": [
       "<matplotlib.figure.Figure at 0x1327899e8>"
      ]
     },
     "metadata": {},
     "output_type": "display_data"
    }
   ],
   "source": [
    "from sklearn.decomposition import PCA\n",
    "analysis = PCA(n_components=50)\n",
    "analysis.fit(X)\n",
    "explainedVar = analysis.explained_variance_ratio_\n",
    "plt.subplot(223)\n",
    "plt.plot(range(50),explainedVar)\n",
    "plt.xlabel('Principal Component')\n",
    "plt.ylabel('% Variance Explained')\n",
    "plt.title('Var per Component')\n",
    "plt.subplot(224)\n",
    "plt.plot(range(50),np.cumsum(explainedVar))\n",
    "plt.title('Cumulative Var')"
   ]
  },
  {
   "cell_type": "code",
   "execution_count": 36,
   "metadata": {
    "collapsed": false
   },
   "outputs": [],
   "source": [
    "weightIntensity = abs(analysis.components_[0])\n",
    "sortedVariables = np.argsort(weightIntensity)\n",
    "strongestPredictors = weightIntensity[sortedVariables]"
   ]
  },
  {
   "cell_type": "code",
   "execution_count": 50,
   "metadata": {
    "collapsed": false
   },
   "outputs": [
    {
     "name": "stdout",
     "output_type": "stream",
     "text": [
      "Index(['L3_S29_F3455', 'L3_S29_F3339', 'L3_S30_F3749', 'L0_S8_F144',\n",
      "       'L3_S29_F3458', 'L3_S29_F3351', 'L3_S29_F3412', 'L3_S29_F3407',\n",
      "       'L3_S29_F3470', 'L3_S29_F3464'],\n",
      "      dtype='object')\n"
     ]
    }
   ],
   "source": [
    "otherPotentiallyImportantPredictors = X.columns[sortedVariables][len(sortedVariables)-100:]\n",
    "print(otherPotentiallyImportantPredictors[len(otherPotentiallyImportantPredictors)-10:])"
   ]
  },
  {
   "cell_type": "code",
   "execution_count": 55,
   "metadata": {
    "collapsed": false
   },
   "outputs": [
    {
     "data": {
      "text/plain": [
       "47"
      ]
     },
     "execution_count": 55,
     "metadata": {},
     "output_type": "execute_result"
    }
   ],
   "source": [
    "#lets see how much agreement our two methods have\n",
    "len([e for e in otherPotentiallyImportantPredictors if e not in '\\n'.join(potentiallyGoodPredictors)])"
   ]
  },
  {
   "cell_type": "markdown",
   "metadata": {},
   "source": [
    "A decent amount of agreement between methods. Seems like using the top few hundred predictors could be a viable option. Alternately I could try PCA on all the data and only use the top say 10 principal components as predictors. I think its worth trying both techniques and seeing what scores I end up with on kaggle and choosing the highest scoring method."
   ]
  },
  {
   "cell_type": "markdown",
   "metadata": {},
   "source": [
    "### Feature Selection (Train Categorical)\n",
    "\n",
    "----"
   ]
  },
  {
   "cell_type": "code",
   "execution_count": 111,
   "metadata": {
    "collapsed": false
   },
   "outputs": [],
   "source": [
    "import random\n",
    "import pandas as pd\n",
    "nrows = 10000\n",
    "trainCategorical = pd.read_csv('train_categorical.csv',skiprows =skip,low_memory=False)"
   ]
  },
  {
   "cell_type": "code",
   "execution_count": 112,
   "metadata": {
    "collapsed": false
   },
   "outputs": [
    {
     "data": {
      "text/plain": [
       "1357"
      ]
     },
     "execution_count": 112,
     "metadata": {},
     "output_type": "execute_result"
    }
   ],
   "source": [
    "sum(trainCategorical.isnull().sum() == 10000)\n",
    "# so many NA values lets just drop the columns with all NA's"
   ]
  },
  {
   "cell_type": "code",
   "execution_count": 113,
   "metadata": {
    "collapsed": false
   },
   "outputs": [],
   "source": [
    "NACols = trainCategorical.columns[(trainCategorical.isnull().sum() == 10000)==True]\n",
    "trainCategorical = trainCategorical.drop(NACols,1)\n",
    "trainCategorical = trainCategorical.drop('Id',1)"
   ]
  },
  {
   "cell_type": "markdown",
   "metadata": {},
   "source": [
    "Lets convert all the categories to numbers"
   ]
  },
  {
   "cell_type": "code",
   "execution_count": 117,
   "metadata": {
    "collapsed": false
   },
   "outputs": [],
   "source": [
    "for predictor in list(trainCategorical.columns.values):\n",
    "    uniqueVals = trainCategorical[predictor].unique()\n",
    "    trainCategorical[predictor] = trainCategorical[predictor].replace(uniqueVals,range(0,len(uniqueVals)))"
   ]
  },
  {
   "cell_type": "code",
   "execution_count": 118,
   "metadata": {
    "collapsed": false
   },
   "outputs": [
    {
     "data": {
      "text/html": [
       "<div>\n",
       "<table border=\"1\" class=\"dataframe\">\n",
       "  <thead>\n",
       "    <tr style=\"text-align: right;\">\n",
       "      <th></th>\n",
       "      <th>L0_S2_F33</th>\n",
       "      <th>L0_S2_F35</th>\n",
       "      <th>L0_S2_F37</th>\n",
       "      <th>L0_S2_F39</th>\n",
       "      <th>L0_S2_F41</th>\n",
       "      <th>L0_S2_F43</th>\n",
       "      <th>L0_S2_F45</th>\n",
       "      <th>L0_S2_F47</th>\n",
       "      <th>L0_S2_F49</th>\n",
       "      <th>L0_S2_F51</th>\n",
       "      <th>...</th>\n",
       "      <th>L3_S49_F4225</th>\n",
       "      <th>L3_S49_F4227</th>\n",
       "      <th>L3_S49_F4229</th>\n",
       "      <th>L3_S49_F4230</th>\n",
       "      <th>L3_S49_F4232</th>\n",
       "      <th>L3_S49_F4234</th>\n",
       "      <th>L3_S49_F4235</th>\n",
       "      <th>L3_S49_F4237</th>\n",
       "      <th>L3_S49_F4239</th>\n",
       "      <th>L3_S49_F4240</th>\n",
       "    </tr>\n",
       "  </thead>\n",
       "  <tbody>\n",
       "    <tr>\n",
       "      <th>0</th>\n",
       "      <td>0</td>\n",
       "      <td>0</td>\n",
       "      <td>0</td>\n",
       "      <td>0</td>\n",
       "      <td>0</td>\n",
       "      <td>0</td>\n",
       "      <td>0</td>\n",
       "      <td>0</td>\n",
       "      <td>0</td>\n",
       "      <td>0</td>\n",
       "      <td>...</td>\n",
       "      <td>0</td>\n",
       "      <td>0</td>\n",
       "      <td>0</td>\n",
       "      <td>0</td>\n",
       "      <td>0</td>\n",
       "      <td>0</td>\n",
       "      <td>0</td>\n",
       "      <td>0</td>\n",
       "      <td>0</td>\n",
       "      <td>0</td>\n",
       "    </tr>\n",
       "    <tr>\n",
       "      <th>1</th>\n",
       "      <td>0</td>\n",
       "      <td>0</td>\n",
       "      <td>0</td>\n",
       "      <td>0</td>\n",
       "      <td>0</td>\n",
       "      <td>0</td>\n",
       "      <td>0</td>\n",
       "      <td>0</td>\n",
       "      <td>0</td>\n",
       "      <td>0</td>\n",
       "      <td>...</td>\n",
       "      <td>0</td>\n",
       "      <td>0</td>\n",
       "      <td>0</td>\n",
       "      <td>0</td>\n",
       "      <td>0</td>\n",
       "      <td>0</td>\n",
       "      <td>0</td>\n",
       "      <td>0</td>\n",
       "      <td>0</td>\n",
       "      <td>0</td>\n",
       "    </tr>\n",
       "    <tr>\n",
       "      <th>2</th>\n",
       "      <td>0</td>\n",
       "      <td>0</td>\n",
       "      <td>0</td>\n",
       "      <td>0</td>\n",
       "      <td>0</td>\n",
       "      <td>0</td>\n",
       "      <td>0</td>\n",
       "      <td>0</td>\n",
       "      <td>0</td>\n",
       "      <td>0</td>\n",
       "      <td>...</td>\n",
       "      <td>0</td>\n",
       "      <td>0</td>\n",
       "      <td>0</td>\n",
       "      <td>0</td>\n",
       "      <td>0</td>\n",
       "      <td>0</td>\n",
       "      <td>0</td>\n",
       "      <td>0</td>\n",
       "      <td>0</td>\n",
       "      <td>0</td>\n",
       "    </tr>\n",
       "    <tr>\n",
       "      <th>3</th>\n",
       "      <td>0</td>\n",
       "      <td>0</td>\n",
       "      <td>0</td>\n",
       "      <td>0</td>\n",
       "      <td>0</td>\n",
       "      <td>0</td>\n",
       "      <td>0</td>\n",
       "      <td>0</td>\n",
       "      <td>0</td>\n",
       "      <td>0</td>\n",
       "      <td>...</td>\n",
       "      <td>0</td>\n",
       "      <td>0</td>\n",
       "      <td>0</td>\n",
       "      <td>0</td>\n",
       "      <td>0</td>\n",
       "      <td>0</td>\n",
       "      <td>0</td>\n",
       "      <td>0</td>\n",
       "      <td>0</td>\n",
       "      <td>0</td>\n",
       "    </tr>\n",
       "    <tr>\n",
       "      <th>4</th>\n",
       "      <td>0</td>\n",
       "      <td>0</td>\n",
       "      <td>0</td>\n",
       "      <td>0</td>\n",
       "      <td>0</td>\n",
       "      <td>0</td>\n",
       "      <td>0</td>\n",
       "      <td>0</td>\n",
       "      <td>0</td>\n",
       "      <td>0</td>\n",
       "      <td>...</td>\n",
       "      <td>0</td>\n",
       "      <td>0</td>\n",
       "      <td>0</td>\n",
       "      <td>0</td>\n",
       "      <td>0</td>\n",
       "      <td>0</td>\n",
       "      <td>0</td>\n",
       "      <td>0</td>\n",
       "      <td>0</td>\n",
       "      <td>0</td>\n",
       "    </tr>\n",
       "    <tr>\n",
       "      <th>5</th>\n",
       "      <td>0</td>\n",
       "      <td>0</td>\n",
       "      <td>0</td>\n",
       "      <td>0</td>\n",
       "      <td>0</td>\n",
       "      <td>0</td>\n",
       "      <td>0</td>\n",
       "      <td>0</td>\n",
       "      <td>0</td>\n",
       "      <td>0</td>\n",
       "      <td>...</td>\n",
       "      <td>0</td>\n",
       "      <td>0</td>\n",
       "      <td>0</td>\n",
       "      <td>0</td>\n",
       "      <td>0</td>\n",
       "      <td>0</td>\n",
       "      <td>0</td>\n",
       "      <td>0</td>\n",
       "      <td>0</td>\n",
       "      <td>0</td>\n",
       "    </tr>\n",
       "    <tr>\n",
       "      <th>6</th>\n",
       "      <td>0</td>\n",
       "      <td>0</td>\n",
       "      <td>0</td>\n",
       "      <td>0</td>\n",
       "      <td>0</td>\n",
       "      <td>0</td>\n",
       "      <td>0</td>\n",
       "      <td>0</td>\n",
       "      <td>0</td>\n",
       "      <td>0</td>\n",
       "      <td>...</td>\n",
       "      <td>0</td>\n",
       "      <td>0</td>\n",
       "      <td>0</td>\n",
       "      <td>0</td>\n",
       "      <td>0</td>\n",
       "      <td>0</td>\n",
       "      <td>0</td>\n",
       "      <td>0</td>\n",
       "      <td>0</td>\n",
       "      <td>0</td>\n",
       "    </tr>\n",
       "    <tr>\n",
       "      <th>7</th>\n",
       "      <td>0</td>\n",
       "      <td>0</td>\n",
       "      <td>0</td>\n",
       "      <td>0</td>\n",
       "      <td>0</td>\n",
       "      <td>0</td>\n",
       "      <td>0</td>\n",
       "      <td>0</td>\n",
       "      <td>0</td>\n",
       "      <td>0</td>\n",
       "      <td>...</td>\n",
       "      <td>0</td>\n",
       "      <td>0</td>\n",
       "      <td>0</td>\n",
       "      <td>0</td>\n",
       "      <td>0</td>\n",
       "      <td>0</td>\n",
       "      <td>0</td>\n",
       "      <td>0</td>\n",
       "      <td>0</td>\n",
       "      <td>0</td>\n",
       "    </tr>\n",
       "    <tr>\n",
       "      <th>8</th>\n",
       "      <td>0</td>\n",
       "      <td>0</td>\n",
       "      <td>0</td>\n",
       "      <td>0</td>\n",
       "      <td>0</td>\n",
       "      <td>0</td>\n",
       "      <td>0</td>\n",
       "      <td>0</td>\n",
       "      <td>0</td>\n",
       "      <td>0</td>\n",
       "      <td>...</td>\n",
       "      <td>0</td>\n",
       "      <td>0</td>\n",
       "      <td>0</td>\n",
       "      <td>0</td>\n",
       "      <td>0</td>\n",
       "      <td>0</td>\n",
       "      <td>0</td>\n",
       "      <td>0</td>\n",
       "      <td>0</td>\n",
       "      <td>0</td>\n",
       "    </tr>\n",
       "    <tr>\n",
       "      <th>9</th>\n",
       "      <td>0</td>\n",
       "      <td>0</td>\n",
       "      <td>0</td>\n",
       "      <td>0</td>\n",
       "      <td>0</td>\n",
       "      <td>0</td>\n",
       "      <td>0</td>\n",
       "      <td>0</td>\n",
       "      <td>0</td>\n",
       "      <td>0</td>\n",
       "      <td>...</td>\n",
       "      <td>0</td>\n",
       "      <td>0</td>\n",
       "      <td>0</td>\n",
       "      <td>0</td>\n",
       "      <td>0</td>\n",
       "      <td>0</td>\n",
       "      <td>0</td>\n",
       "      <td>0</td>\n",
       "      <td>0</td>\n",
       "      <td>0</td>\n",
       "    </tr>\n",
       "  </tbody>\n",
       "</table>\n",
       "<p>10 rows × 783 columns</p>\n",
       "</div>"
      ],
      "text/plain": [
       "   L0_S2_F33  L0_S2_F35  L0_S2_F37  L0_S2_F39  L0_S2_F41  L0_S2_F43  \\\n",
       "0          0          0          0          0          0          0   \n",
       "1          0          0          0          0          0          0   \n",
       "2          0          0          0          0          0          0   \n",
       "3          0          0          0          0          0          0   \n",
       "4          0          0          0          0          0          0   \n",
       "5          0          0          0          0          0          0   \n",
       "6          0          0          0          0          0          0   \n",
       "7          0          0          0          0          0          0   \n",
       "8          0          0          0          0          0          0   \n",
       "9          0          0          0          0          0          0   \n",
       "\n",
       "   L0_S2_F45  L0_S2_F47  L0_S2_F49  L0_S2_F51      ...       L3_S49_F4225  \\\n",
       "0          0          0          0          0      ...                  0   \n",
       "1          0          0          0          0      ...                  0   \n",
       "2          0          0          0          0      ...                  0   \n",
       "3          0          0          0          0      ...                  0   \n",
       "4          0          0          0          0      ...                  0   \n",
       "5          0          0          0          0      ...                  0   \n",
       "6          0          0          0          0      ...                  0   \n",
       "7          0          0          0          0      ...                  0   \n",
       "8          0          0          0          0      ...                  0   \n",
       "9          0          0          0          0      ...                  0   \n",
       "\n",
       "   L3_S49_F4227  L3_S49_F4229  L3_S49_F4230  L3_S49_F4232  L3_S49_F4234  \\\n",
       "0             0             0             0             0             0   \n",
       "1             0             0             0             0             0   \n",
       "2             0             0             0             0             0   \n",
       "3             0             0             0             0             0   \n",
       "4             0             0             0             0             0   \n",
       "5             0             0             0             0             0   \n",
       "6             0             0             0             0             0   \n",
       "7             0             0             0             0             0   \n",
       "8             0             0             0             0             0   \n",
       "9             0             0             0             0             0   \n",
       "\n",
       "   L3_S49_F4235  L3_S49_F4237  L3_S49_F4239  L3_S49_F4240  \n",
       "0             0             0             0             0  \n",
       "1             0             0             0             0  \n",
       "2             0             0             0             0  \n",
       "3             0             0             0             0  \n",
       "4             0             0             0             0  \n",
       "5             0             0             0             0  \n",
       "6             0             0             0             0  \n",
       "7             0             0             0             0  \n",
       "8             0             0             0             0  \n",
       "9             0             0             0             0  \n",
       "\n",
       "[10 rows x 783 columns]"
      ]
     },
     "execution_count": 118,
     "metadata": {},
     "output_type": "execute_result"
    }
   ],
   "source": [
    "trainCategorical[:10]"
   ]
  },
  {
   "cell_type": "code",
   "execution_count": 121,
   "metadata": {
    "collapsed": false
   },
   "outputs": [],
   "source": [
    "from sklearn.ensemble import RandomForestClassifier\n",
    "cateForest= RandomForestClassifier(n_estimators = 100)\n",
    "cateForest.fit(trainCategorical,Y)\n",
    "importances = cateForest.feature_importances_"
   ]
  },
  {
   "cell_type": "code",
   "execution_count": 123,
   "metadata": {
    "collapsed": false
   },
   "outputs": [
    {
     "data": {
      "text/plain": [
       "<Container object of 100 artists>"
      ]
     },
     "execution_count": 123,
     "metadata": {},
     "output_type": "execute_result"
    },
    {
     "data": {
      "image/png": "[encoded data removed]",
      "text/plain": [
       "<matplotlib.figure.Figure at 0x11e14bb00>"
      ]
     },
     "metadata": {},
     "output_type": "display_data"
    }
   ],
   "source": [
    "sortedImportances = np.argsort(importances)\n",
    "plt.bar(range(0,100),importances[sortedImportances[len(importances)-100:]])"
   ]
  },
  {
   "cell_type": "code",
   "execution_count": 125,
   "metadata": {
    "collapsed": false
   },
   "outputs": [
    {
     "data": {
      "text/plain": [
       "Index(['L0_S9_F204', 'L0_S9_F179', 'L0_S9_F159', 'L0_S9_F199', 'L1_S24_F710',\n",
       "       'L2_S26_F3099', 'L1_S24_F705', 'L1_S24_F675', 'L3_S32_F3851',\n",
       "       'L3_S32_F3854'],\n",
       "      dtype='object')"
      ]
     },
     "execution_count": 125,
     "metadata": {},
     "output_type": "execute_result"
    }
   ],
   "source": [
    "trainCategorical.columns[sortedImportances[len(importances)-10:]]"
   ]
  },
  {
   "cell_type": "markdown",
   "metadata": {},
   "source": [
    "And again lets do PCA."
   ]
  },
  {
   "cell_type": "code",
   "execution_count": 131,
   "metadata": {
    "collapsed": false
   },
   "outputs": [
    {
     "data": {
      "text/plain": [
       "<matplotlib.text.Text at 0x116d70cc0>"
      ]
     },
     "execution_count": 131,
     "metadata": {},
     "output_type": "execute_result"
    },
    {
     "data": {
      "image/png": "[encoded data removed]",
      "text/plain": [
       "<matplotlib.figure.Figure at 0x11e145a90>"
      ]
     },
     "metadata": {},
     "output_type": "display_data"
    }
   ],
   "source": [
    "from sklearn.decomposition import PCA\n",
    "analysis = PCA(n_components=50)\n",
    "analysis.fit(trainCategorical)\n",
    "explainedVar = analysis.explained_variance_ratio_\n",
    "plt.subplot(223)\n",
    "plt.plot(range(50),explainedVar)\n",
    "plt.xlabel('Principal Component')\n",
    "plt.ylabel('% Variance Explained')\n",
    "plt.title('Var per Component')\n",
    "plt.subplot(224)\n",
    "plt.plot(range(50),np.cumsum(explainedVar))\n",
    "plt.title('Cumulative Var')"
   ]
  },
  {
   "cell_type": "markdown",
   "metadata": {},
   "source": [
    "Again it seems clear that the majority of the predictive value lies in the best few predictors. I'll play with cutoff points next time but a good start might be say 8 or 20. "
   ]
  }
 ],
 "metadata": {
  "kernelspec": {
   "display_name": "Python 3",
   "language": "python",
   "name": "python3"
  },
  "language_info": {
   "codemirror_mode": {
    "name": "ipython",
    "version": 3
   },
   "file_extension": ".py",
   "mimetype": "text/x-python",
   "name": "python",
   "nbconvert_exporter": "python",
   "pygments_lexer": "ipython3",
   "version": "3.5.2"
  }
 },
 "nbformat": 4,
 "nbformat_minor": 0
}
